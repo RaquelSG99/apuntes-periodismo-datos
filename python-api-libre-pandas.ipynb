{
 "cells": [
  {
   "cell_type": "markdown",
   "metadata": {},
   "source": [
    "# Uso de una API de nuestra elección\n",
    "Para la práctica 4 de la asignatura Periodismo de datos, se nos pide que escojamos una API de los [datos abiertos del gobierno de España](https://datos.gob.es/es) para\n",
    "- documentar el proceso de análisis de datos\n",
    "- crear una visualización\n",
    "- esbozar una historia con ellos"
   ]
  },
  {
   "cell_type": "markdown",
   "metadata": {},
   "source": [
    "## Búsqueda de la API\n",
    "En primer lugar, tenemos que escoger con qué base de datos trabajar. Dentro de la página mencionada, vamos a catálogo de datos y filtramos por JSON para poder trabajar con ello después. Escogemos [Concentración de ozono 2006-2016 en Arganda](https://datosabiertos.ayto-arganda.es/dataset/b7ce7868-f873-402f-951f-ec7e5ce8b854/resource/5c34a69d-b313-4b06-8097-e1dfb81ca3ad/download/convertcsv-108.json)"
   ]
  },
  {
   "cell_type": "markdown",
   "metadata": {},
   "source": [
    "## Instalación pandas\n",
    "El siguiente paso es instalar pandas, una biblioteca de software que es la que nos permitirá analizar y manipular los datos. Usamos `!` al inicio, porque Python lee bash. Después importaremos pandas como \"pd\", que es como lo nombraremos después."
   ]
  },
  {
   "cell_type": "code",
   "execution_count": 58,
   "metadata": {},
   "outputs": [
    {
     "name": "stdout",
     "output_type": "stream",
     "text": [
      "Requirement already satisfied: pandas in /usr/local/lib/python3.8/dist-packages (1.3.1)\r\n",
      "Requirement already satisfied: pytz>=2017.3 in /usr/local/lib/python3.8/dist-packages (from pandas) (2020.4)\r\n",
      "Requirement already satisfied: numpy>=1.17.3 in /usr/local/lib/python3.8/dist-packages (from pandas) (1.21.1)\r\n",
      "Requirement already satisfied: python-dateutil>=2.7.3 in /usr/local/lib/python3.8/dist-packages (from pandas) (2.8.1)\r\n",
      "Requirement already satisfied: six>=1.5 in /usr/lib/python3/dist-packages (from python-dateutil>=2.7.3->pandas) (1.14.0)\r\n"
     ]
    }
   ],
   "source": [
    "!pip install pandas"
   ]
  },
  {
   "cell_type": "code",
   "execution_count": 59,
   "metadata": {},
   "outputs": [],
   "source": [
    "import pandas as pd"
   ]
  },
  {
   "cell_type": "markdown",
   "metadata": {},
   "source": [
    "## Crear variable\n",
    "Creamos la variable \"url\" con `=`. Cuando usemos los datos de la url de la concentración de ozono en Arganda solo tendremos que \"llamarlo\" como \"url\" en vez de copiarla íntegra. Es importante que al establecer la variable la url vaya entrecomillada para que no haya un error de sintaxis."
   ]
  },
  {
   "cell_type": "code",
   "execution_count": 60,
   "metadata": {},
   "outputs": [],
   "source": [
    "url = 'https://datosabiertos.ayto-arganda.es/dataset/b7ce7868-f873-402f-951f-ec7e5ce8b854/resource/5c34a69d-b313-4b06-8097-e1dfb81ca3ad/download/convertcsv-108.json'"
   ]
  },
  {
   "cell_type": "markdown",
   "metadata": {},
   "source": [
    "## Crear el dataframe\n",
    "Creamos un dataframe que equivale a los datos de la url, pero para que podamos utilizarlos en Python hemos hecho lo siguiente. Lo primero que vamos a hacer es explicitar que los vamos a usar con pandas (\"pd\") y dentro de esto vamos a usar la función leer con JSON (JavaScript Objet Notation, el formato, la notación) `read_json`. Dentro de la función incluimos el valor de lo que queremos que se lea, es decir los datos: la url entre `()`. El resultado final es df (el dataframe, la tabla que resultará después) `=` a usar pandas y leer los datos (url) en JSON. Entonces, para referirnos a ello escribimos únicamente \"df\" y se nos imprime."
   ]
  },
  {
   "cell_type": "code",
   "execution_count": 61,
   "metadata": {},
   "outputs": [],
   "source": [
    "df = pd.read_json(url)"
   ]
  },
  {
   "cell_type": "code",
   "execution_count": 62,
   "metadata": {},
   "outputs": [
    {
     "data": {
      "text/html": [
       "<div>\n",
       "<style scoped>\n",
       "    .dataframe tbody tr th:only-of-type {\n",
       "        vertical-align: middle;\n",
       "    }\n",
       "\n",
       "    .dataframe tbody tr th {\n",
       "        vertical-align: top;\n",
       "    }\n",
       "\n",
       "    .dataframe thead th {\n",
       "        text-align: right;\n",
       "    }\n",
       "</style>\n",
       "<table border=\"1\" class=\"dataframe\">\n",
       "  <thead>\n",
       "    <tr style=\"text-align: right;\">\n",
       "      <th></th>\n",
       "      <th>Año</th>\n",
       "      <th>Ozono - ug</th>\n",
       "    </tr>\n",
       "  </thead>\n",
       "  <tbody>\n",
       "    <tr>\n",
       "      <th>0</th>\n",
       "      <td>2006</td>\n",
       "      <td>{'m3': 60.75}</td>\n",
       "    </tr>\n",
       "    <tr>\n",
       "      <th>1</th>\n",
       "      <td>2007</td>\n",
       "      <td>{'m3': 48.16}</td>\n",
       "    </tr>\n",
       "    <tr>\n",
       "      <th>2</th>\n",
       "      <td>2008</td>\n",
       "      <td>{'m3': 45.08}</td>\n",
       "    </tr>\n",
       "    <tr>\n",
       "      <th>3</th>\n",
       "      <td>2009</td>\n",
       "      <td>{'m3': 35.66}</td>\n",
       "    </tr>\n",
       "    <tr>\n",
       "      <th>4</th>\n",
       "      <td>2010</td>\n",
       "      <td>{'m3': 43.75}</td>\n",
       "    </tr>\n",
       "    <tr>\n",
       "      <th>5</th>\n",
       "      <td>2011</td>\n",
       "      <td>{'m3': 56.16}</td>\n",
       "    </tr>\n",
       "    <tr>\n",
       "      <th>6</th>\n",
       "      <td>2012</td>\n",
       "      <td>{'m3': 59.75}</td>\n",
       "    </tr>\n",
       "    <tr>\n",
       "      <th>7</th>\n",
       "      <td>2013</td>\n",
       "      <td>{'m3': 60.72}</td>\n",
       "    </tr>\n",
       "    <tr>\n",
       "      <th>8</th>\n",
       "      <td>2014</td>\n",
       "      <td>{'m3': 56.66}</td>\n",
       "    </tr>\n",
       "    <tr>\n",
       "      <th>9</th>\n",
       "      <td>2015</td>\n",
       "      <td>{'m3': 52.83}</td>\n",
       "    </tr>\n",
       "    <tr>\n",
       "      <th>10</th>\n",
       "      <td>2016</td>\n",
       "      <td>{'m3': 54.5}</td>\n",
       "    </tr>\n",
       "  </tbody>\n",
       "</table>\n",
       "</div>"
      ],
      "text/plain": [
       "     Año     Ozono - ug\n",
       "0   2006  {'m3': 60.75}\n",
       "1   2007  {'m3': 48.16}\n",
       "2   2008  {'m3': 45.08}\n",
       "3   2009  {'m3': 35.66}\n",
       "4   2010  {'m3': 43.75}\n",
       "5   2011  {'m3': 56.16}\n",
       "6   2012  {'m3': 59.75}\n",
       "7   2013  {'m3': 60.72}\n",
       "8   2014  {'m3': 56.66}\n",
       "9   2015  {'m3': 52.83}\n",
       "10  2016   {'m3': 54.5}"
      ]
     },
     "execution_count": 62,
     "metadata": {},
     "output_type": "execute_result"
    }
   ],
   "source": [
    "df"
   ]
  },
  {
   "cell_type": "markdown",
   "metadata": {},
   "source": [
    "## Exploración tabla\n",
    "Para conocer mejor qué datos poseemos exactamente vamos a utilizar algunas funciones. De entrada, al imprimirse \"df\" ya vemos que tenemos 2 columnas (la numeración de la izquierda se contabiliza, pero no es un dato verdaderamente) y 11 filas (porque empieza a contabilizar con 0). Para seguir conociendo los datos vamos a aplicar `info()`y `columns` que nos detalla los tipos de datos de nuestro dataframe y qué columnas posee, respectivamente. "
   ]
  },
  {
   "cell_type": "code",
   "execution_count": 63,
   "metadata": {},
   "outputs": [
    {
     "name": "stdout",
     "output_type": "stream",
     "text": [
      "<class 'pandas.core.frame.DataFrame'>\n",
      "RangeIndex: 11 entries, 0 to 10\n",
      "Data columns (total 2 columns):\n",
      " #   Column      Non-Null Count  Dtype \n",
      "---  ------      --------------  ----- \n",
      " 0   Año         11 non-null     int64 \n",
      " 1   Ozono - ug  11 non-null     object\n",
      "dtypes: int64(1), object(1)\n",
      "memory usage: 304.0+ bytes\n"
     ]
    }
   ],
   "source": [
    "df.info()"
   ]
  },
  {
   "cell_type": "code",
   "execution_count": 64,
   "metadata": {},
   "outputs": [
    {
     "data": {
      "text/plain": [
       "Index(['Año', 'Ozono - ug'], dtype='object')"
      ]
     },
     "execution_count": 64,
     "metadata": {},
     "output_type": "execute_result"
    }
   ],
   "source": [
    "df.columns"
   ]
  },
  {
   "cell_type": "markdown",
   "metadata": {},
   "source": [
    "Seguimos explorando los datos. Ahora queremos ver solo algunos valores. Para que solo nos muestre valores concretos del dataframe, explicitamos qué queremos que nos muestre escribiéndolo entre `[]`. Entrecomillamos el contenido porque es texto literal, si no, Python no podría interpretarlo). "
   ]
  },
  {
   "cell_type": "code",
   "execution_count": 65,
   "metadata": {},
   "outputs": [
    {
     "data": {
      "text/plain": [
       "0     2006\n",
       "1     2007\n",
       "2     2008\n",
       "3     2009\n",
       "4     2010\n",
       "5     2011\n",
       "6     2012\n",
       "7     2013\n",
       "8     2014\n",
       "9     2015\n",
       "10    2016\n",
       "Name: Año, dtype: int64"
      ]
     },
     "execution_count": 65,
     "metadata": {},
     "output_type": "execute_result"
    }
   ],
   "source": [
    "df['Año']"
   ]
  },
  {
   "cell_type": "code",
   "execution_count": 66,
   "metadata": {},
   "outputs": [
    {
     "data": {
      "text/plain": [
       "0     {'m3': 60.75}\n",
       "1     {'m3': 48.16}\n",
       "2     {'m3': 45.08}\n",
       "3     {'m3': 35.66}\n",
       "4     {'m3': 43.75}\n",
       "5     {'m3': 56.16}\n",
       "6     {'m3': 59.75}\n",
       "7     {'m3': 60.72}\n",
       "8     {'m3': 56.66}\n",
       "9     {'m3': 52.83}\n",
       "10     {'m3': 54.5}\n",
       "Name: Ozono - ug, dtype: object"
      ]
     },
     "execution_count": 66,
     "metadata": {},
     "output_type": "execute_result"
    }
   ],
   "source": [
    "df['Ozono - ug']"
   ]
  },
  {
   "cell_type": "markdown",
   "metadata": {},
   "source": [
    "## Corregir errores\n",
    "Nos damos cuenta de que esta última columna tiene un \"error\" o más bien, un problema para ejecutar la visualización que queríamos. Los datos no son valores numéricos porque el dato en sí viene acompañado de \"{'m3:}\". Como son pocos datos, lo vamos a solucionar modificando cada dato escribiendo solo el valor numérico que corresponde a cada fila. Usamos la función `at` sobre el dataframe. Seguido de ello, dentro de `[]`,escribimos el número de fila (nos guiamos con el índice de la izquierda), y la columna cuyos datos queremos modificar. Después establecemos `=`y el valor que corresponda. Lo hacemos para cada valor."
   ]
  },
  {
   "cell_type": "code",
   "execution_count": 72,
   "metadata": {},
   "outputs": [],
   "source": [
    "df.at[0, 'Ozono - ug']=60.75\n",
    "df.at[1, 'Ozono - ug']=48.16\n",
    "df.at[2, 'Ozono - ug']=45.08\n",
    "df.at[3, 'Ozono - ug']=35.66\n",
    "df.at[4, 'Ozono - ug']=43.08\n",
    "df.at[5, 'Ozono - ug']=56.16\n",
    "df.at[6, 'Ozono - ug']=59.75\n",
    "df.at[7, 'Ozono - ug']=60.72\n",
    "df.at[8, 'Ozono - ug']=56.66\n",
    "df.at[9, 'Ozono - ug']=52.83\n",
    "df.at[10, 'Ozono - ug']=54.50"
   ]
  },
  {
   "cell_type": "markdown",
   "metadata": {},
   "source": [
    "## Establecer un índice \n",
    "Explorando los datos, hemos llegado a la conclusión que lo más interesante para redactar una historia sería, usando el año como índice de la tabla (eje x en un gráfico) se nos mostraran los valores de ozono de cada uno. Para ello, vamos a usar la función `set_index()`colocando como argumento entre `()`qué columna es la que queremos que sea el índice. Lo escribimos entre comillas porque es texto literal."
   ]
  },
  {
   "cell_type": "code",
   "execution_count": 73,
   "metadata": {},
   "outputs": [
    {
     "data": {
      "text/html": [
       "<div>\n",
       "<style scoped>\n",
       "    .dataframe tbody tr th:only-of-type {\n",
       "        vertical-align: middle;\n",
       "    }\n",
       "\n",
       "    .dataframe tbody tr th {\n",
       "        vertical-align: top;\n",
       "    }\n",
       "\n",
       "    .dataframe thead th {\n",
       "        text-align: right;\n",
       "    }\n",
       "</style>\n",
       "<table border=\"1\" class=\"dataframe\">\n",
       "  <thead>\n",
       "    <tr style=\"text-align: right;\">\n",
       "      <th></th>\n",
       "      <th>Ozono - ug</th>\n",
       "    </tr>\n",
       "    <tr>\n",
       "      <th>Año</th>\n",
       "      <th></th>\n",
       "    </tr>\n",
       "  </thead>\n",
       "  <tbody>\n",
       "    <tr>\n",
       "      <th>2006</th>\n",
       "      <td>60.75</td>\n",
       "    </tr>\n",
       "    <tr>\n",
       "      <th>2007</th>\n",
       "      <td>48.16</td>\n",
       "    </tr>\n",
       "    <tr>\n",
       "      <th>2008</th>\n",
       "      <td>45.08</td>\n",
       "    </tr>\n",
       "    <tr>\n",
       "      <th>2009</th>\n",
       "      <td>35.66</td>\n",
       "    </tr>\n",
       "    <tr>\n",
       "      <th>2010</th>\n",
       "      <td>43.08</td>\n",
       "    </tr>\n",
       "    <tr>\n",
       "      <th>2011</th>\n",
       "      <td>56.16</td>\n",
       "    </tr>\n",
       "    <tr>\n",
       "      <th>2012</th>\n",
       "      <td>59.75</td>\n",
       "    </tr>\n",
       "    <tr>\n",
       "      <th>2013</th>\n",
       "      <td>60.72</td>\n",
       "    </tr>\n",
       "    <tr>\n",
       "      <th>2014</th>\n",
       "      <td>56.66</td>\n",
       "    </tr>\n",
       "    <tr>\n",
       "      <th>2015</th>\n",
       "      <td>52.83</td>\n",
       "    </tr>\n",
       "    <tr>\n",
       "      <th>2016</th>\n",
       "      <td>54.5</td>\n",
       "    </tr>\n",
       "  </tbody>\n",
       "</table>\n",
       "</div>"
      ],
      "text/plain": [
       "     Ozono - ug\n",
       "Año            \n",
       "2006      60.75\n",
       "2007      48.16\n",
       "2008      45.08\n",
       "2009      35.66\n",
       "2010      43.08\n",
       "2011      56.16\n",
       "2012      59.75\n",
       "2013      60.72\n",
       "2014      56.66\n",
       "2015      52.83\n",
       "2016       54.5"
      ]
     },
     "execution_count": 73,
     "metadata": {},
     "output_type": "execute_result"
    }
   ],
   "source": [
    "df.set_index('Año')"
   ]
  },
  {
   "cell_type": "markdown",
   "metadata": {},
   "source": [
    "## Visualización\n",
    "Ya tenemos todo preparado para una visualización. Sobre lo anterior (con la función `set_index`) usamos la función `plot()`. Dentro del argumento, vamos a especificar directamente dos cosas interesantes para nuestro gráfico. Primero, queremos que tenga un título `title='Concentración de ozono en Arganda del Rey'`. Como estamos hablando de concentraciones, creemos también que en vez de un gráfico de líneas (que es el que saldría por defecto) puede ser interesante usar uno de área. Dentro del argumento, separandolo con `, ` de lo anterior, escribimos `kind='area'`."
   ]
  },
  {
   "cell_type": "code",
   "execution_count": 74,
   "metadata": {},
   "outputs": [
    {
     "data": {
      "text/plain": [
       "<AxesSubplot:title={'center':'Concentración de ozono en Arganda del Rey'}, xlabel='Año'>"
      ]
     },
     "execution_count": 74,
     "metadata": {},
     "output_type": "execute_result"
    },
    {
     "data": {
      "image/png": "[encoded data removed]",
      "text/plain": [
       "<Figure size 432x288 with 1 Axes>"
      ]
     },
     "metadata": {
      "needs_background": "light"
     },
     "output_type": "display_data"
    }
   ],
   "source": [
    "df.set_index('Año').plot(title='Concentración de ozono en Arganda del Rey', kind='area')"
   ]
  },
  {
   "cell_type": "markdown",
   "metadata": {},
   "source": [
    "## Guardar los datos e imágenes\n",
    "Ya terminamos de manipular los datos y queremos descargar lo que hemos hecho. Para descargar los datos vamos a convertir el dataframe en csv con la funcón `to_` seguido del formato en que lo convertimos, en este caso `to_csv`. Como argumento de la función, el nombre con el que queremos que se guarde. Es importante no olvidar poner .csv para que se guarde correctamente en el formato escogido. Va entre comillas porque es texto literal."
   ]
  },
  {
   "cell_type": "code",
   "execution_count": 75,
   "metadata": {},
   "outputs": [],
   "source": [
    "df.to_csv('practica-4.csv')"
   ]
  },
  {
   "cell_type": "markdown",
   "metadata": {},
   "source": [
    "Para descargar los gráficos, imágenes, hay que seguir un procedimiento diferente.\n",
    "Primero importamos `matpltlib.pyplot` que es lo que nos permite ver esos gráficos. Lo importamos `as plt`, que será el nombre que utilicemos, por tanto, para nombrarlo. Es un proceso análogo al que hicimos al principio con pandas (`as pd`).\n",
    "Después pintamos el gráfico con la función `plot()` como ya hemos explicado. \n",
    "Una vez hemos hecho los dos pasos anteriores, usamos `plt` (`matplotlib.pyplot`) con la función `savefig()` que es lo que nos permite guardar esa imagen. Igual que con los datos, el argumento de la función es el nombre con que se guardará la imagen. En este caso ponemos `.png` para que se guarden correctamente en el formato. "
   ]
  },
  {
   "cell_type": "code",
   "execution_count": 76,
   "metadata": {},
   "outputs": [
    {
     "data": {
      "image/png": "[encoded data removed]",
      "text/plain": [
       "<Figure size 432x288 with 1 Axes>"
      ]
     },
     "metadata": {
      "needs_background": "light"
     },
     "output_type": "display_data"
    }
   ],
   "source": [
    "import matplotlib.pyplot as plt\n",
    "df.set_index('Año').plot(title='Concentración de ozono en Arganda del Rey', kind='area')\n",
    "plt.savefig('practica-4.png')"
   ]
  },
  {
   "cell_type": "markdown",
   "metadata": {},
   "source": [
    "Por último, comprobamos que se hayan guardado correctamente con `!ls`"
   ]
  },
  {
   "cell_type": "code",
   "execution_count": 77,
   "metadata": {},
   "outputs": [
    {
     "name": "stdout",
     "output_type": "stream",
     "text": [
      "api-pandas-folium.ipynb  practica-4.csv\t\t\t  python-pruebas.ipynb\r\n",
      "esvsitvsmx.csv\t\t practica-4.png\t\t\t  Shared_Resources\r\n",
      "esvsitvsmx.png\t\t python-api-covid19-pandas.ipynb\r\n",
      "Notas.ipynb\t\t python-api-libre-pandas.ipynb\r\n"
     ]
    }
   ],
   "source": [
    "!ls"
   ]
  },
  {
   "cell_type": "markdown",
   "metadata": {},
   "source": [
    "## Esbozo de historia\n",
    "Como parte de la práctica 4 también se nos pide que esbocemos una historia en la que aplicar los datos con los que hemos trabajado (y su visualización). Como son de Arganda del Rey, tendría sentido que fuese información local. Si vemos el gráfico observamos que tras una fuerte caída de los niveles de ozono en los años 2008-2009, los valores volvieron a subir casi a niveles de 2006. \n",
    "El ozono a altas concentraciones en las capas bajas de la atmósfera terrestre es contaminante y perjudicial para la salud humana (sobre todo con enfermedades relacionadas con las vías respiratorias) y la vida vegetal (con la repercusión que esto tiene en la actividad agraria). La información iría orientada a informar sobre este peligro y alertar de que hemos controlar y bajar lo máximo posible estos niveles de ozono (sobre todo teniendo un cuenta la tendencia positiva, si bien es cierto que a partir de 2013 bajó un poco).\n",
    "No obstante, habría que mencionar que los niveles son preocupantes a partir de 120, dato que Arganda no alcanza. Aún así, hemos de tener en cuenta también que el dato que poseemos es de la media anual y que dentro de él habrá valores más altos y más bajos, pudiendo los primeros sí llegar a valores de alerta. Los niveles de ozono aumentan con la llegada del buen tiempo (precisamente el momento en que nos encontramos, de ahí la pertinencia de la noticia) con el aumento de las temperaturas y la radiación solar. \n",
    "Recomendaríamos entonces que durante este periodo se consulte la concentración de ozono diariamente a través de [este enlace](http://gestiona.madrid.org/azul_internet/html/web/DatosEstacion24Accion.icm?ESTADO_MENU=2_1). También informamos de qué hacer las personas de riesgo cuando los niveles sean muy altos (evitar el exterior y sobre todo ejercicios físicos prolongados al aire libre, rehuir el contacto con alérgenos...) y cómo prevenir/reducir los niveles de ozono con acciones individuales (preferencia del transporte público al privado, ahorro energético en los hogares...)."
   ]
  },
  {
   "cell_type": "code",
   "execution_count": null,
   "metadata": {},
   "outputs": [],
   "source": []
  }
 ],
 "metadata": {
  "kernelspec": {
   "display_name": "Python 3",
   "language": "python",
   "name": "python3"
  },
  "language_info": {
   "codemirror_mode": {
    "name": "ipython",
    "version": 3
   },
   "file_extension": ".py",
   "mimetype": "text/x-python",
   "name": "python",
   "nbconvert_exporter": "python",
   "pygments_lexer": "ipython3",
   "version": "3.8.10"
  }
 },
 "nbformat": 4,
 "nbformat_minor": 4
}
